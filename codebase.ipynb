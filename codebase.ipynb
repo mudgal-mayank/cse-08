!pip install transformers

from google.colab import drive
drive.mount('/content/drive')

from zipfile import ZipFile
with ZipFile("/content/drive/MyDrive/real.zip", 'r') as zObject:
zObject.extractall(
path="/content/drive/MyDrive/")
import torch

# Clear PyTorch cache
torch.cuda.empty_cache()
import torch
from PIL import Image
from transformers import CLIPProcessor, CLIPModel

model_main = CLIPModel.from_pretrained("openai/clip-vit-base-patch32")
processor_main = CLIPProcessor.from_pretrained("openai/clip-vit-base-patch32")

image = Image.open("/content/drive/MyDrive/WIN_20240731_22_53_49_Pro.jpg")
inputs = processor(text=["clear", "distorted"], images=image, return_tensors="pt", padding=True)

with torch.no_grad():
    outputs = model(**inputs)
    logits = outputs.logits_per_image
    probs = logits.softmax(dim=1)

print("Real vs Fake Probabilities:", probs)
from transformers import ChameleonProcessor, ChameleonForConditionalGeneration
import torch
from PIL import Image, UnidentifiedImageError
import os
import requests
import matplotlib.pyplot as plt
from sklearn.metrics import confusion_matrix, accuracy_score, ConfusionMatrixDisplay

def load_image(image_path_or_url):
    try:
        if image_path_or_url.startswith("http://") or image_path_or_url.startswith("https://"):
            return Image.open(requests.get(image_path_or_url, stream=True).raw)
        elif os.path.isfile(image_path_or_url):
            return Image.open(image_path_or_url)
        else:
            raise ValueError(f"Invalid image path: {image_path_or_url}")
    except UnidentifiedImageError:
        print(f"Unidentified image file: {image_path_or_url}")
        return None
  def predict_fake_or_real(image_path):
    prompt = "Is this image a swapped aur not, you will only answer in yes or no,you have to answer.<image>"
    image = load_image(image_path)
    if image is None:
        return None

    inputs = processor(images=image, text=prompt, return_tensors="pt").to(model.device, dtype=torch.bfloat16)
    output = model.generate(**inputs, max_new_tokens=50)
    response = processor.decode(output[0], skip_special_tokens=True)
    print(response)
    if "is fake" in response.lower() or "is manipulated" in response.lower():
        return "fake"
    else:
        return "real"
